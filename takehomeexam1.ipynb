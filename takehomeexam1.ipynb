{
  "nbformat": 4,
  "nbformat_minor": 0,
  "metadata": {
    "colab": {
      "name": "takehomeexam1- Transition Matrices and Markov Chains.ipynb",
      "provenance": [],
      "include_colab_link": true
    },
    "kernelspec": {
      "name": "python3",
      "display_name": "Python 3"
    }
  },
  "cells": [
    {
      "cell_type": "markdown",
      "metadata": {
        "id": "view-in-github",
        "colab_type": "text"
      },
      "source": [
        "<a href=\"https://colab.research.google.com/github/mackenzieackerman/Linear_Algebra_Coding_projects/blob/main/takehomeexam1.ipynb\" target=\"_parent\"><img src=\"https://colab.research.google.com/assets/colab-badge.svg\" alt=\"Open In Colab\"/></a>"
      ]
    },
    {
      "cell_type": "markdown",
      "metadata": {
        "id": "dYZCqThDj-mJ"
      },
      "source": [
        "#Initialize the preliminary code:\n"
      ]
    },
    {
      "cell_type": "code",
      "metadata": {
        "id": "OCPrJ_6ij5LN"
      },
      "source": [
        "import numpy as np\n",
        "from numpy import c_\n",
        "\n",
        "ll = \"loaded\""
      ],
      "execution_count": 2,
      "outputs": []
    },
    {
      "cell_type": "code",
      "metadata": {
        "id": "KuK9BE7lkGBu"
      },
      "source": [
        "# create the matrix M:\n",
        "M = np.matrix([[40/100, 50/100, 20/100, 0],\n",
        "               [30/100, 0, 40/100, 0],\n",
        "               [30/100, 0, 40/100, 0],\n",
        "               [0, 50/100, 0, 1]])\n"
      ],
      "execution_count": 11,
      "outputs": []
    },
    {
      "cell_type": "code",
      "metadata": {
        "id": "jF42al7mnDl5",
        "colab": {
          "base_uri": "https://localhost:8080/"
        },
        "outputId": "de2f76dc-704b-4c19-e202-2b37655933b1"
      },
      "source": [
        "x0 = np.matrix([[100], [200], [0], [0]])\n",
        "x0"
      ],
      "execution_count": 12,
      "outputs": [
        {
          "output_type": "execute_result",
          "data": {
            "text/plain": [
              "matrix([[100],\n",
              "        [200],\n",
              "        [  0],\n",
              "        [  0]])"
            ]
          },
          "metadata": {},
          "execution_count": 12
        }
      ]
    },
    {
      "cell_type": "code",
      "metadata": {
        "id": "nPrS-I0FnEG4",
        "colab": {
          "base_uri": "https://localhost:8080/"
        },
        "outputId": "c6f64f3c-8d2a-49bb-dd66-4de58d93b4a3"
      },
      "source": [
        "M*x0\n"
      ],
      "execution_count": 13,
      "outputs": [
        {
          "output_type": "execute_result",
          "data": {
            "text/plain": [
              "matrix([[140.],\n",
              "        [ 30.],\n",
              "        [ 30.],\n",
              "        [100.]])"
            ]
          },
          "metadata": {},
          "execution_count": 13
        }
      ]
    },
    {
      "cell_type": "code",
      "metadata": {
        "id": "wcCvmePJnTh8",
        "colab": {
          "base_uri": "https://localhost:8080/"
        },
        "outputId": "99df2d3b-4748-4501-c7e9-9d4e2ee46087"
      },
      "source": [
        "# Compute where skiers are after one ski run:\n",
        "\n",
        "(M**2)*x0"
      ],
      "execution_count": 14,
      "outputs": [
        {
          "output_type": "execute_result",
          "data": {
            "text/plain": [
              "matrix([[ 77.],\n",
              "        [ 54.],\n",
              "        [ 54.],\n",
              "        [115.]])"
            ]
          },
          "metadata": {},
          "execution_count": 14
        }
      ]
    },
    {
      "cell_type": "code",
      "metadata": {
        "id": "0fjb-Hahs23M",
        "colab": {
          "base_uri": "https://localhost:8080/"
        },
        "outputId": "f6f5922b-2a6e-4dc5-f4e3-2a3ff0f4c168"
      },
      "source": [
        "#  We can take powers of M using the ** operator.\n",
        "\n",
        "#  So, M**2  * x0 is the same as  M * M * x0\n",
        "\n",
        "M ** 4  * x0"
      ],
      "execution_count": 15,
      "outputs": [
        {
          "output_type": "execute_result",
          "data": {
            "text/plain": [
              "matrix([[ 58.73],\n",
              "        [ 38.46],\n",
              "        [ 38.46],\n",
              "        [164.35]])"
            ]
          },
          "metadata": {},
          "execution_count": 15
        }
      ]
    },
    {
      "cell_type": "code",
      "metadata": {
        "id": "_ZYXMv4aqYmN",
        "colab": {
          "base_uri": "https://localhost:8080/"
        },
        "outputId": "41bde2a4-4076-47a9-9ae0-63f77900afba"
      },
      "source": [
        "#  We can take powers of M using the ** operator.\n",
        "\n",
        "#  So, M**2  * x0 is the same as  M * M * x0\n",
        "\n",
        "M ** 48  * x0"
      ],
      "execution_count": 22,
      "outputs": [
        {
          "output_type": "execute_result",
          "data": {
            "text/plain": [
              "matrix([[7.04863641e-02],\n",
              "        [4.61441570e-02],\n",
              "        [4.61441570e-02],\n",
              "        [2.99837225e+02]])"
            ]
          },
          "metadata": {},
          "execution_count": 22
        }
      ]
    },
    {
      "cell_type": "code",
      "metadata": {
        "id": "lKAIukpGynHE",
        "colab": {
          "base_uri": "https://localhost:8080/"
        },
        "outputId": "20b07af8-d4c9-4fac-9e93-bcb4c47ddd12"
      },
      "source": [
        "#  We can take powers of M using the ** operator.\n",
        "\n",
        "#  So, M**2  * x0 is the same as  M * M * x0\n",
        "\n",
        "M ** 2  * x0"
      ],
      "execution_count": 25,
      "outputs": [
        {
          "output_type": "execute_result",
          "data": {
            "text/plain": [
              "matrix([[ 77.],\n",
              "        [ 54.],\n",
              "        [ 54.],\n",
              "        [115.]])"
            ]
          },
          "metadata": {},
          "execution_count": 25
        }
      ]
    }
  ]
}