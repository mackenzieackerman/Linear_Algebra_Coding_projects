{
  "nbformat": 4,
  "nbformat_minor": 0,
  "metadata": {
    "colab": {
      "name": "Copy of Copy of The Ski Hill - Transition Matrices and Markov Chains.ipynb",
      "provenance": [],
      "include_colab_link": true
    },
    "kernelspec": {
      "name": "python3",
      "display_name": "Python 3"
    }
  },
  "cells": [
    {
      "cell_type": "markdown",
      "metadata": {
        "id": "view-in-github",
        "colab_type": "text"
      },
      "source": [
        "<a href=\"https://colab.research.google.com/github/mackenzieackerman/Linear_Algebra_Coding_projects/blob/main/Copy_of_Copy_of_Markov_Chains_Situation_3.ipynb\" target=\"_parent\"><img src=\"https://colab.research.google.com/assets/colab-badge.svg\" alt=\"Open In Colab\"/></a>"
      ]
    },
    {
      "cell_type": "markdown",
      "metadata": {
        "id": "dYZCqThDj-mJ"
      },
      "source": [
        "#Initialize the preliminary code:\n"
      ]
    },
    {
      "cell_type": "code",
      "metadata": {
        "id": "OCPrJ_6ij5LN"
      },
      "source": [
        "import numpy as np\n",
        "from numpy import c_\n",
        "\n",
        "ll = \"loaded\""
      ],
      "execution_count": null,
      "outputs": []
    },
    {
      "cell_type": "code",
      "metadata": {
        "id": "KuK9BE7lkGBu",
        "colab": {
          "base_uri": "https://localhost:8080/"
        },
        "outputId": "e3dba8c2-0c1e-44e4-ab8b-92b3e98afb50"
      },
      "source": [
        "# create the matrix M:\n",
        "M = np.matrix([[.95, .04, 0, 0],\n",
        "               [.05, .85, 0, 0],\n",
        "               [0, .10, 0, 0],\n",
        "               [0, .01, 0, 1]])\n",
        "M"
      ],
      "execution_count": null,
      "outputs": [
        {
          "output_type": "execute_result",
          "data": {
            "text/plain": [
              "matrix([[0.95, 0.04, 0.  , 0.  ],\n",
              "        [0.05, 0.85, 0.  , 0.  ],\n",
              "        [0.  , 0.1 , 0.  , 0.  ],\n",
              "        [0.  , 0.01, 0.  , 1.  ]])"
            ]
          },
          "metadata": {},
          "execution_count": 3
        }
      ]
    },
    {
      "cell_type": "code",
      "metadata": {
        "id": "jF42al7mnDl5",
        "colab": {
          "base_uri": "https://localhost:8080/"
        },
        "outputId": "0db5b160-b431-490f-9bbf-59be2d78df86"
      },
      "source": [
        "x0 = np.matrix([[.75], [.10], [.10], [.05]])\n",
        "x0"
      ],
      "execution_count": null,
      "outputs": [
        {
          "output_type": "execute_result",
          "data": {
            "text/plain": [
              "matrix([[0.75],\n",
              "        [0.1 ],\n",
              "        [0.1 ],\n",
              "        [0.05]])"
            ]
          },
          "metadata": {},
          "execution_count": 5
        }
      ]
    },
    {
      "cell_type": "code",
      "metadata": {
        "id": "nPrS-I0FnEG4",
        "colab": {
          "base_uri": "https://localhost:8080/"
        },
        "outputId": "9097447e-8d78-4d54-8dad-fd94a6441ac3"
      },
      "source": [
        "M*x0\n"
      ],
      "execution_count": null,
      "outputs": [
        {
          "output_type": "execute_result",
          "data": {
            "text/plain": [
              "matrix([[0.7165],\n",
              "        [0.1225],\n",
              "        [0.01  ],\n",
              "        [0.051 ]])"
            ]
          },
          "metadata": {},
          "execution_count": 6
        }
      ]
    },
    {
      "cell_type": "code",
      "metadata": {
        "id": "wcCvmePJnTh8",
        "colab": {
          "base_uri": "https://localhost:8080/"
        },
        "outputId": "2e3494c6-7f74-4d19-9b51-55f95f0a9980"
      },
      "source": [
        "# Compute where skiers are after one ski run:\n",
        "\n",
        "(M**10)*x0"
      ],
      "execution_count": null,
      "outputs": [
        {
          "output_type": "execute_result",
          "data": {
            "text/plain": [
              "matrix([[0.50021395],\n",
              "        [0.17821602],\n",
              "        [0.01791366],\n",
              "        [0.06559728]])"
            ]
          },
          "metadata": {},
          "execution_count": 7
        }
      ]
    },
    {
      "cell_type": "code",
      "metadata": {
        "id": "0fjb-Hahs23M",
        "colab": {
          "base_uri": "https://localhost:8080/"
        },
        "outputId": "4f3f414b-adf2-4de5-eaa1-ad1067801674"
      },
      "source": [
        "#  We can take powers of M using the ** operator.\n",
        "\n",
        "#  So, M**2  * x0 is the same as  M * M * x0\n",
        "\n",
        "M ** 20  * x0"
      ],
      "execution_count": null,
      "outputs": [
        {
          "output_type": "execute_result",
          "data": {
            "text/plain": [
              "matrix([[0.35206646],\n",
              "        [0.14466133],\n",
              "        [0.01487585],\n",
              "        [0.08211566]])"
            ]
          },
          "metadata": {},
          "execution_count": 8
        }
      ]
    },
    {
      "cell_type": "code",
      "metadata": {
        "id": "_ZYXMv4aqYmN",
        "colab": {
          "base_uri": "https://localhost:8080/"
        },
        "outputId": "6acb0d93-b353-4fdb-ca81-713cefc49c3a"
      },
      "source": [
        "#  The initial state of the system:\n",
        "x0 = np.matrix([[.75], [.1], [.1], [.05]])\n",
        "\n",
        "#Make a matrix, where each column is the result \n",
        "#of applying the matrix multiple times to the initial state x0:\n",
        "\n",
        "X = np.c_[x0, M*x0, M**10 * x0, M**15 * x0, M**20 * x0, M**25 * x0, M**50 * x0, M**100 * x0]\n",
        "\n",
        "#print out the X matrix, rounding the entries to 2 decimal places\n",
        "print(X.round(2))\n"
      ],
      "execution_count": null,
      "outputs": [
        {
          "output_type": "stream",
          "name": "stdout",
          "text": [
            "[[0.75 0.72 0.5  0.42 0.35 0.3  0.13 0.02]\n",
            " [0.1  0.12 0.18 0.16 0.14 0.12 0.05 0.01]\n",
            " [0.1  0.01 0.02 0.02 0.01 0.01 0.01 0.  ]\n",
            " [0.05 0.05 0.07 0.07 0.08 0.09 0.11 0.12]]\n"
          ]
        }
      ]
    },
    {
      "cell_type": "code",
      "metadata": {
        "id": "70AzXmN8qZoM",
        "colab": {
          "base_uri": "https://localhost:8080/",
          "height": 295
        },
        "outputId": "1b56b824-5b52-438c-ba24-428aea6cdd30"
      },
      "source": [
        "import matplotlib.pyplot as plt\n",
        " \n",
        "x  = [0, 1, 2, 3, 4, 5, 10, 15]\n",
        "plt.plot(x, np.array(X[0])[0], label=\"Susceptible\")\n",
        "plt.plot(x, np.array(X[1])[0], label=\"Infected\")\n",
        "plt.plot(x, np.array(X[2])[0], label=\"Recovered\")\n",
        "plt.plot(x, np.array(X[3])[0], label=\"Deceased\")\n",
        "plt.plot()\n",
        "\n",
        "plt.xlabel(\"x axis\")  # Update this label\n",
        "plt.ylabel(\"y axis\")  # Update this label\n",
        "plt.title(\"Line Graph Example\")  # Update the title\n",
        "plt.legend()\n",
        "plt.show()"
      ],
      "execution_count": null,
      "outputs": [
        {
          "output_type": "display_data",
          "data": {
            "image/png": "[encoded data removed]",
            "text/plain": [
              "<Figure size 432x288 with 1 Axes>"
            ]
          },
          "metadata": {
            "needs_background": "light"
          }
        }
      ]
    },
    {
      "cell_type": "markdown",
      "metadata": {
        "id": "6YXi3FY6ynsN"
      },
      "source": [
        "#Homework for Markov Chanins and Skiing\n",
        "\n",
        "Answer the following two situations on the printed homework.  The questions are copied here for your convenience - but you will turn in your homework pages with your answers written on those pages.\n",
        "\n",
        "## Situation 1:  \n",
        "\n",
        "We use the same set-up as the previous ski problem, except that we assume these changes to the initial data used to form matrix $M$:\n",
        "\n",
        "* After each run, 20 skiers from the Green Triangle head to the Chalet instead of to the Double Black Diamond.\n",
        "* After each run, 30 skiers from the Double Black Diamond go to the Chalet instead of going back to the Double Black Diamond run.\n",
        "* On each run, all skiers leaving the lodge go to the Bunny Hill.\n",
        "\n",
        "\n",
        "## HW 1:\n",
        "\n",
        "What is your new matrix system for this modification?  Give your new system and explain how you modified your old system to fit this new situation."
      ]
    },
    {
      "cell_type": "code",
      "metadata": {
        "id": "EuL4IIuYzUD9"
      },
      "source": [
        ""
      ],
      "execution_count": null,
      "outputs": []
    },
    {
      "cell_type": "markdown",
      "metadata": {
        "id": "rx9Yn2lwzUxm"
      },
      "source": [
        "## HW 2: \n",
        "\n",
        "Long term, did changing the system affect which ski run was most popular?\n",
        "\n",
        "Note:  It may be helpful to copy some of the code from above to answer this question. "
      ]
    },
    {
      "cell_type": "code",
      "metadata": {
        "id": "h4kpb57Uzqdo"
      },
      "source": [
        ""
      ],
      "execution_count": null,
      "outputs": []
    },
    {
      "cell_type": "markdown",
      "metadata": {
        "id": "7UIkl0tPzrJ6"
      },
      "source": [
        "# Situation 2:  \n",
        "\n",
        "People who enter the ski lodge don't return immediately to the Bunny Hill. Instead, they get hot chocolate and sit for, in effect, 3 ski runs. In this situation, where do most people spend their time during a day of skiing?\n",
        "\n",
        "## HW 3:  \n",
        "\n",
        "What is your new matrix system for this modification?  Give your new system and explain how you modified your old system to fit this new situation."
      ]
    },
    {
      "cell_type": "code",
      "metadata": {
        "id": "hA9F78Hq0JKS"
      },
      "source": [
        ""
      ],
      "execution_count": null,
      "outputs": []
    },
    {
      "cell_type": "markdown",
      "metadata": {
        "id": "-EHqxkM30Jeg"
      },
      "source": [
        "## HW 4:\n",
        "\n",
        "Long term, did changing the system affect which ski run was most popular?"
      ]
    },
    {
      "cell_type": "markdown",
      "metadata": {
        "id": "0Vgif7BXS70J"
      },
      "source": [
        "# Situation 3:\n",
        "\n",
        "## Markov Chains and Transformation Matrix Project:\n",
        "\n",
        "Copy and modify examples of the code above to model the scenario described in the packet.\n",
        "\n",
        "Provide a 1-page executive summary of this situation described in the packet.  It should be written with complete sentences and include:\n",
        "\n",
        "  1.\tThe posed problem\n",
        "  2.\tA description of the matrix\n",
        "  3.\tAn example showing the initial state, the first, and the second state of the system.\n",
        "  4.\tA graph showing how the system evolves over time\n",
        "  5.\tA conclusion about the long-term trend of the system.\n"
      ]
    }
  ]
}