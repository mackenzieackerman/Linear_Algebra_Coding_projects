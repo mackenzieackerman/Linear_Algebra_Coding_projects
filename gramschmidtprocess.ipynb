{
  "nbformat": 4,
  "nbformat_minor": 0,
  "metadata": {
    "colab": {
      "name": "gramschmidtprocess.ipynb",
      "provenance": [],
      "authorship_tag": "ABX9TyOmjWSlHgDVbaLAgngNmOfD",
      "include_colab_link": true
    },
    "kernelspec": {
      "name": "python3",
      "display_name": "Python 3"
    },
    "language_info": {
      "name": "python"
    }
  },
  "cells": [
    {
      "cell_type": "markdown",
      "metadata": {
        "id": "view-in-github",
        "colab_type": "text"
      },
      "source": [
        "<a href=\"https://colab.research.google.com/github/mackenzieackerman/Linear_Algebra_Coding_projects/blob/main/gramschmidtprocess.ipynb\" target=\"_parent\"><img src=\"https://colab.research.google.com/assets/colab-badge.svg\" alt=\"Open In Colab\"/></a>"
      ]
    },
    {
      "cell_type": "code",
      "execution_count": 2,
      "metadata": {
        "id": "qmtBL_kHPwZy"
      },
      "outputs": [],
      "source": [
        "\n",
        "import numpy as np \n",
        "from numpy import c_\n"
      ]
    },
    {
      "cell_type": "code",
      "source": [
        "r1 = np.matrix('3; 6; 0')\n",
        "r1\n"
      ],
      "metadata": {
        "colab": {
          "base_uri": "https://localhost:8080/"
        },
        "id": "TNkmmltqQLjM",
        "outputId": "b7988fc2-53e0-4701-b6c7-b8e2b8b2a55d"
      },
      "execution_count": 6,
      "outputs": [
        {
          "output_type": "execute_result",
          "data": {
            "text/plain": [
              "matrix([[3],\n",
              "        [6],\n",
              "        [0]])"
            ]
          },
          "metadata": {},
          "execution_count": 6
        }
      ]
    },
    {
      "cell_type": "code",
      "source": [
        "r1 = np.array([3,6,0])\n",
        "r1\n"
      ],
      "metadata": {
        "colab": {
          "base_uri": "https://localhost:8080/"
        },
        "id": "OcpGGptRQczE",
        "outputId": "2aa76e01-f39e-4feb-b609-ddf9245af970"
      },
      "execution_count": 10,
      "outputs": [
        {
          "output_type": "execute_result",
          "data": {
            "text/plain": [
              "array([3, 6, 0])"
            ]
          },
          "metadata": {},
          "execution_count": 10
        }
      ]
    },
    {
      "cell_type": "code",
      "source": [
        "r1.dot(r1)\n"
      ],
      "metadata": {
        "colab": {
          "base_uri": "https://localhost:8080/"
        },
        "id": "iznNj0FXSIY8",
        "outputId": "6e21fed6-4c36-4919-98a6-417cdfa461e9"
      },
      "execution_count": 11,
      "outputs": [
        {
          "output_type": "execute_result",
          "data": {
            "text/plain": [
              "45"
            ]
          },
          "metadata": {},
          "execution_count": 11
        }
      ]
    },
    {
      "cell_type": "code",
      "source": [
        "np.sqrt(45)"
      ],
      "metadata": {
        "colab": {
          "base_uri": "https://localhost:8080/"
        },
        "id": "LqbOU9izSQEd",
        "outputId": "855e9389-cd26-481e-c350-896ee7ea6697"
      },
      "execution_count": 12,
      "outputs": [
        {
          "output_type": "execute_result",
          "data": {
            "text/plain": [
              "6.708203932499369"
            ]
          },
          "metadata": {},
          "execution_count": 12
        }
      ]
    },
    {
      "cell_type": "code",
      "source": [
        "print(\"this is the square root of 45:\", np.sqrt(45))"
      ],
      "metadata": {
        "colab": {
          "base_uri": "https://localhost:8080/"
        },
        "id": "SNwtW19RSdvy",
        "outputId": "7206cc14-f1f8-4659-bd94-ceddf390666d"
      },
      "execution_count": 14,
      "outputs": [
        {
          "output_type": "stream",
          "name": "stdout",
          "text": [
            "this is the square root of 45: 6.708203932499369\n"
          ]
        }
      ]
    },
    {
      "cell_type": "code",
      "source": [
        "# Gram Schmidt process using first vector [3, 6, 0]\n",
        "\n",
        "r1 = np.array([3,6,0])\n",
        "r1\n",
        "print(\"Our first messy vector is\", r1)\n",
        "\n",
        "# Temporary vector T1 \n",
        "T1 = r1 \n",
        "print(\"our T1 vector is\", T1)\n",
        "\n",
        "# Find the magnitude of T1 \n",
        "n1 = np.sqrt(T1.dot(T1))\n",
        "print(\"the size of T1 is |T1| = \", n1)\n",
        "\n",
        "# renormalize and create u1: \n",
        "u1 = (1/n1)* T1\n",
        "print(\"u1 = \", u1)"
      ],
      "metadata": {
        "colab": {
          "base_uri": "https://localhost:8080/"
        },
        "id": "bz5fXeQwSxW3",
        "outputId": "0b55f3d3-4e28-40ef-aa7d-0c210c915e4c"
      },
      "execution_count": 24,
      "outputs": [
        {
          "output_type": "stream",
          "name": "stdout",
          "text": [
            "Our first messy vector is [3 6 0]\n",
            "our T1 vector is [3 6 0]\n",
            "the size of T1 is |T1| =  6.708203932499369\n",
            "u1 =  [0.4472136  0.89442719 0.        ]\n"
          ]
        }
      ]
    },
    {
      "cell_type": "code",
      "source": [
        "# Gram Schmidt process using second vector [6, 2, 0]\n",
        "\n",
        "r2 = np.array([6,2,0])\n",
        "r2\n",
        "print(\"Our second messy vector is\", r2)\n",
        "\n",
        "\n",
        "# Temporary vector T2 \n",
        "T2 = r2 - (r2.dot(u1))*u1\n",
        "print(\"our T2 vector is\", T2)\n",
        "\n",
        "\n",
        "# Find the magnitude of T2 \n",
        "n2 = np.sqrt(T2.dot(T2))\n",
        "print(\"the size of T2 is |T2| = \", n2)\n",
        "\n",
        "# renormalize and create u2: \n",
        "u2 = (1/n2)* T2\n",
        "print(\"u2 = \", u2)"
      ],
      "metadata": {
        "colab": {
          "base_uri": "https://localhost:8080/"
        },
        "id": "R2JhrpW0TBbu",
        "outputId": "02ace9d0-910a-460e-a821-deccb3baa3b6"
      },
      "execution_count": 30,
      "outputs": [
        {
          "output_type": "stream",
          "name": "stdout",
          "text": [
            "Our second messy vector is [6 2 0]\n",
            "our T2 vector is [ 4. -2.  0.]\n",
            "the size of T2 is |T2| =  4.47213595499958\n",
            "u2 =  [ 0.89442719 -0.4472136   0.        ]\n"
          ]
        }
      ]
    },
    {
      "cell_type": "code",
      "source": [
        "# Gram Schmidt process using third vector [-4, 2, 0]\n",
        "\n",
        "r3 = np.array([-4,2,0])\n",
        "r3\n",
        "print(\"Our third messy vector is\", r3)\n",
        "\n",
        "\n",
        "# Temporary vector T3 \n",
        "T3 = r3 - ((r3.dot(u1))*u1) - ((r3.dot(u2))*u2)\n",
        "print(\"our T3 vector is\", T3)\n",
        "\n",
        "\n",
        "# Find the magnitude of T3 \n",
        "n3 = np.sqrt(T3.dot(T3))\n",
        "print(\"the size of T3 is |T3| = \", n3)\n",
        "\n",
        "# renormalize and create u3: \n",
        "u3 = (1/n3)* T3\n",
        "print(\"u3 = \", u3)"
      ],
      "metadata": {
        "colab": {
          "base_uri": "https://localhost:8080/"
        },
        "id": "_1il8yCyWCdj",
        "outputId": "d65db9e2-211c-449b-ce00-a9e087e2e8c7"
      },
      "execution_count": 35,
      "outputs": [
        {
          "output_type": "stream",
          "name": "stdout",
          "text": [
            "Our third messy vector is [-4  2  0]\n",
            "our T3 vector is [-4.4408921e-16 -8.8817842e-16  0.0000000e+00]\n",
            "the size of T3 is |T3| =  9.930136612989092e-16\n",
            "u3 =  [-0.4472136  -0.89442719  0.        ]\n"
          ]
        }
      ]
    },
    {
      "cell_type": "code",
      "source": [
        "# Gram Schmidt process using fourth vector [3, -4, 3]\n",
        "\n",
        "r4 = np.array([3,-4,3])\n",
        "r4\n",
        "print(\"Our fourth messy vector is\", r4)\n",
        "\n",
        "\n",
        "# Temporary vector T4 \n",
        "T4 = r4 - ((r4.dot(u1))*u1) - ((r4.dot(u2))*u2) - ((r4.dot(u3))*u3)\n",
        "print(\"our T4 vector is\", T4)\n",
        "\n",
        "\n",
        "# Find the magnitude of T4 \n",
        "n4 = np.sqrt(T4.dot(T4))\n",
        "print(\"the size of T4 is |T4| = \", n4)\n",
        "\n",
        "# renormalize and create u4: \n",
        "u4 = (1/n4)* T4\n",
        "print(\"u4 = \", u4)"
      ],
      "metadata": {
        "colab": {
          "base_uri": "https://localhost:8080/"
        },
        "id": "lkQqFSl_Wwxd",
        "outputId": "6f8c53b7-ac74-4ebb-b752-446e371de90f"
      },
      "execution_count": 36,
      "outputs": [
        {
          "output_type": "stream",
          "name": "stdout",
          "text": [
            "Our fourth messy vector is [ 3 -4  3]\n",
            "our T4 vector is [1. 2. 3.]\n",
            "the size of T4 is |T4| =  3.741657386773942\n",
            "u4 =  [0.26726124 0.53452248 0.80178373]\n"
          ]
        }
      ]
    }
  ]
}