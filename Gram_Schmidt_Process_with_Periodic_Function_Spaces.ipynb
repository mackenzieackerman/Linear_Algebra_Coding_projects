{
  "nbformat": 4,
  "nbformat_minor": 0,
  "metadata": {
    "colab": {
      "name": "Copy of Copy of Gram-Schmidt Process with Periodic Function Spaces.ipynb",
      "provenance": [],
      "include_colab_link": true
    },
    "kernelspec": {
      "name": "python3",
      "display_name": "Python 3"
    },
    "language_info": {
      "name": "python"
    }
  },
  "cells": [
    {
      "cell_type": "markdown",
      "metadata": {
        "id": "view-in-github",
        "colab_type": "text"
      },
      "source": [
        "<a href=\"https://colab.research.google.com/github/mackenzieackerman/Linear_Algebra_Coding_projects/blob/main/Gram_Schmidt_Process_with_Periodic_Function_Spaces.ipynb\" target=\"_parent\"><img src=\"https://colab.research.google.com/assets/colab-badge.svg\" alt=\"Open In Colab\"/></a>"
      ]
    },
    {
      "cell_type": "markdown",
      "source": [
        "Related Youtube Video on a talking piano by Mark Rober - watch before completing the activity:  https://www.youtube.com/watch?v=uBEL3YVzMwk\n",
        "\n",
        "\n",
        "\n",
        "# Gram-Schmidt Process with Function Spaces\n",
        "\n",
        "1. Project 1: Polynomial spaces\n",
        "  1. Choose a \"random\" basis for polynomials of degree 4 or less on the interval $$ -2 \\le t \\le 2 $$\n",
        "  2. Create the inner product (dot product) and norm (magnitude) functions\n",
        "  3. Go through the Gram-Schmidt process to turn the random basis into a nice orthonormal basis\n",
        "  4. Write some different functions in the orthonormal basis.\n",
        "\n",
        "\n",
        "2. Project 2: Homework for this project:\n",
        "  1. Choose a \"random\" basis for periodic functions on the interval $$ -\\pi \\le t \\le \\pi $$\n",
        "  2. Create the inner product (dot product) and norm (magnitude) functions\n",
        "  3. Do the Gram-Schmidt process to turn the random basis into a nice orthonormal basis\n",
        "  4. Write some different functiosn in the orthonormal basis."
      ],
      "metadata": {
        "id": "7cIMTgEm8cgt"
      }
    },
    {
      "cell_type": "code",
      "execution_count": null,
      "metadata": {
        "id": "tWo4yv9o8YGx"
      },
      "outputs": [],
      "source": [
        "#  Libraries that we'll need:\n",
        "import numpy as np\n",
        "import sympy as sym\n",
        "from sympy.plotting import plot\n",
        "import matplotlib.pyplot as plt\n",
        "\n",
        "# We'll specify that x and t are variables:\n",
        "x, t, k, j = sym.symbols('x, t, k, j')"
      ]
    },
    {
      "cell_type": "markdown",
      "source": [
        "## Project 2: Create an Orthonormal Basis for Periodic Function Spaces"
      ],
      "metadata": {
        "id": "PRAOELGEhz9V"
      }
    },
    {
      "cell_type": "markdown",
      "source": [
        "### 1. Choose a \"random\" basis for periodic functions on the interval \n",
        "$$ -\\pi \\le x \\le \\pi $$\n",
        "\n",
        "We'll use a naming convention c# and s#, where # is the number of periods that are repeating in the function.  We'll include sine and cosine functions in pairs.\n",
        "\n",
        "$$  c0 = cos(0x) = 1 \\hspace{1cm}  \\hspace{3cm}  $$\n",
        "$$  c1 = cos(x)  \\hspace{1cm} s1 = sin(x) $$\n",
        "$$  c2 = cos(2x)  \\hspace{1cm} s2 = sin(2x) $$\n",
        "$$     \\vdots  \\hspace{4cm} \\vdots $$\n",
        "$$  c4 = cos(4x)  \\hspace{1cm} s4 = sin(4x) $$\n",
        "\n",
        "[ We won't include $s0 = sin(0x)$, since this is just the zero function. "
      ],
      "metadata": {
        "id": "b9foyBoY-KJ3"
      }
    },
    {
      "cell_type": "code",
      "source": [
        "# Our \"random\" vectors:\n",
        "c0 = 1\n",
        "s1 = sym.sin(x)\n",
        "c1 = sym.cos(x)\n",
        "\n",
        "s2 = sym.sin(2*x)\n",
        "c2 = sym.cos(2*x)\n",
        "\n",
        "s3 = sym.sin(3*x)\n",
        "c3 = sym.cos(3*x)\n",
        "\n",
        "s4 = sym.sin(4*x)\n",
        "c4 = sym.cos(4*x)\n",
        "\n",
        "\n"
      ],
      "metadata": {
        "id": "JC16q2x7gGmc"
      },
      "execution_count": null,
      "outputs": []
    },
    {
      "cell_type": "markdown",
      "source": [
        "### 2. Create and Scale the inner product (dot product) and norm (magnitude) functions"
      ],
      "metadata": {
        "id": "S0j2ZV7IhjPu"
      }
    },
    {
      "cell_type": "markdown",
      "source": [
        "The inner product that works with the *continuous* functions $f$ and $g$ is\n",
        "\n",
        "$$ < f | g > \\approx \\int_{\\textrm Left}^{\\textrm Right} g(x) f(x) \\; dx $$\n",
        "\n",
        "or\n",
        "\n",
        "$$ < f | g > = k \\int_{\\textrm Left}^{\\textrm Right} g(x) f(x) \\; dx $$\n",
        "\n",
        "We'll include a scaling factor $k$ for convenience, so that the inner product of the constant function $f(x) = 1$ with itself will be one. That is, we'd like\n",
        "\n",
        "$$< 1 | 1 >  = 1$$\n",
        "\n",
        "Since we're working with periodic functions, and $cos(0x) = 1$, we'd like:\n",
        "\n",
        "$$ < \\, cos(0x) \\, |\\, cos(0x) \\, > = 1 $$\n"
      ],
      "metadata": {
        "id": "zSrmfcm3vWvi"
      }
    },
    {
      "cell_type": "markdown",
      "source": [
        "#### Determining the scaling constant for the inner product on $P_4$\n",
        "\n",
        "Find the scaling constant so that the inner product on the constant function $f(x) = 1$ with itself is 1 on the interval \n",
        "\n",
        "$$ \\pi \\le x \\le \\pi$$"
      ],
      "metadata": {
        "id": "iSpgCI1-21Th"
      }
    },
    {
      "cell_type": "code",
      "source": [
        "\n",
        "#  Note:  pi is written as  sym.pi\n",
        "\n",
        "sym.integrate(1*1, (x,-sym.pi,sym.pi))"
      ],
      "metadata": {
        "id": "cW-TxG33iQ8k",
        "outputId": "e7c764a8-e836-4a24-cbd3-3c8723ec3997",
        "colab": {
          "base_uri": "https://localhost:8080/",
          "height": 39
        }
      },
      "execution_count": null,
      "outputs": [
        {
          "output_type": "execute_result",
          "data": {
            "text/plain": [
              "2*pi"
            ],
            "text/latex": "$\\displaystyle 2 \\pi$"
          },
          "metadata": {},
          "execution_count": 4
        }
      ]
    },
    {
      "cell_type": "markdown",
      "source": [
        "#### Defining the inner product and norm\n",
        "\n",
        "Using this factor, we'll define our inner product as a function `ip(f,g)` as \n",
        "\n",
        "$$ < \\, f \\, | \\, g \\, > = \\frac{1}{ ?? } \\int_{-\\pi}^{\\pi} g(x) \\, f(x) \\; dx $$\n",
        "\n",
        "The norm, or magnitude, of a vector $f$ will be given by\n",
        "\n",
        "$$ \\left| f \\right| = \\sqrt{ < \\, f \\, | \\, f \\, > }$$\n",
        "\n",
        "We'll use this to define our norm function `n(f)`.  Because of our scaling factor we should have the norm of the constant function $f(x) = 1$ as $1$.\n"
      ],
      "metadata": {
        "id": "AroAi3ae3jDg"
      }
    },
    {
      "cell_type": "code",
      "source": [
        "# YOU SHOULD FIX THIS:\n",
        "def ip(a,b):\n",
        "    return (1/(2*sym.pi)) * sym.integrate(a*b, (x, -sym.pi, sym.pi))\n",
        "\n",
        "def n(a):\n",
        "    return sym.sqrt(ip(a,a))"
      ],
      "metadata": {
        "id": "dSBdSm0V4HNp"
      },
      "execution_count": null,
      "outputs": []
    },
    {
      "cell_type": "markdown",
      "source": [
        "#### Testing the scaling constant on the inner product and norm\n",
        "\n",
        "We'll check that everything works:  \n",
        "\n",
        "  * Is $< 1 | 1 > = 1$\n",
        "\n",
        "  * Is $\\left| 1 \\right| = 1$?"
      ],
      "metadata": {
        "id": "0aVS636T5RxY"
      }
    },
    {
      "cell_type": "code",
      "source": [
        "# check that ip(1,1) = 1 and n(1) = 1:\n",
        "print(\"Testing that <1|1> is 1, and |1| = 1: \")\n",
        "print(\"ip(1,1) = \", ip(1,1))\n",
        "print(\"n(1) = \", n(1))\n"
      ],
      "metadata": {
        "id": "4TolMcRc5a4L",
        "outputId": "af4605f4-2b52-4b39-dab6-01c7bff5745c",
        "colab": {
          "base_uri": "https://localhost:8080/"
        }
      },
      "execution_count": null,
      "outputs": [
        {
          "output_type": "stream",
          "name": "stdout",
          "text": [
            "Testing that <1|1> is 1, and |1| = 1: \n",
            "ip(1,1) =  1\n",
            "n(1) =  1\n"
          ]
        }
      ]
    },
    {
      "cell_type": "markdown",
      "source": [
        "### 3. Perform the Gram-Schmidt process to create an orthonormal basis from the random basis.\n",
        "\n",
        "We have the *random* basis\n",
        "\n",
        "$$  c0 = cos(0x) = 1 \\hspace{1cm}  \\hspace{3cm}  $$\n",
        "$$  c1 = cos(x)  \\hspace{1cm} s1 = sin(x) $$\n",
        "$$  c2 = cos(2x)  \\hspace{1cm} s2 = sin(2x) $$\n",
        "$$     \\vdots  \\hspace{4cm} \\vdots $$\n",
        "$$  c4 = cos(4x)  \\hspace{1cm} s4 = sin(4x) $$\n",
        "\n",
        "We'll use code to perform the Gram-Schmidt Orthonormalization Process to generate the nice *orthonormal* basis given by \n",
        "\n",
        "$$   uc_0  \\hspace{1cm} uc_1 \\hspace{1cm} us_1 \\hspace{1cm} uc_2 \\hspace{1cm} us_2 \\hspace{1cm} \\cdots \\hspace{1cm} uc_4 \\hspace{1cm} us_4 $$\n",
        "\n",
        "This involves four steps:\n",
        "  1.  Select an unprocessed vector from the random basis\n",
        "  2.  Find the vector component $t$ perpendicular to the space spanned our existing nice basis vectors by $uc_0, uc_1, us_1, \\cdots, uc_{i-1}, us_{i-1}$.  That is, we'll generalize this expression:\n",
        "$$ T_i = r_i - <\\, r_i \\, | \\, u_1 \\, > \\, u_1 - <\\, r_i \\, | \\, u_2 \\, > \\, u_2 - \\cdots - <\\, r_i \\, | \\, u_{i-1} \\, > \\, u_{i-1}$$\n",
        "for use with our basis vectors.\n",
        "  3.  Normalized $t$ and set it to $uc_i$ or $us_i$, if it is non-zero:\n",
        "  $$ uc_i = \\frac{1}{\\left| t \\right|} t  \\hspace{.5cm} \\textrm{ or }  \\hspace{.5cm} us_i = \\frac{1}{\\left| t \\right| } t \\hspace{.5cm} \\textrm{ if $T_i \\ne \\vec{0}$ }$$\n",
        "  4.  Test that our new vector has norm $1$ and is orthogonal to the previous vectors in the orthonormal basis.  That is, perform this but use our basis vectors $uc0, uc1, us1, \\cdots$:\n",
        "  $$ \\textrm{ Check: } \\left| u_i \\right| = 1 \\textrm{ and } < \\, u_i \\, | \\, u_1 \\, > = 0, \\cdots, < \\, u_i \\, | \\, u_{i-1} \\, > = 0$$"
      ],
      "metadata": {
        "id": "kwAIOSA4uZia"
      }
    },
    {
      "cell_type": "markdown",
      "source": [
        "#### Find the first vector $uc_0$, and do sanity checks"
      ],
      "metadata": {
        "id": "jfoV9lBIxM5j"
      }
    },
    {
      "cell_type": "code",
      "source": [
        "# Find the orthogonal part to the existing nice basis:\n",
        "t0 = c0\n",
        "print(\"t0 = \", t0)"
      ],
      "metadata": {
        "id": "bFKnBt8hAX5f",
        "outputId": "7aa46475-8fa2-4895-ff6d-1681cfc277a2",
        "colab": {
          "base_uri": "https://localhost:8080/"
        }
      },
      "execution_count": null,
      "outputs": [
        {
          "output_type": "stream",
          "name": "stdout",
          "text": [
            "t0 =  1\n"
          ]
        }
      ]
    },
    {
      "cell_type": "code",
      "source": [
        "# Normalize:\n",
        "print(\"|t0| = \", n(t0))\n",
        "uc0 = (1/n(t0))*t0\n",
        "print(\"uc0 = \", uc0)"
      ],
      "metadata": {
        "id": "ZOzD1BQHAkRS",
        "outputId": "4dc09392-a4f5-44d4-a86c-fe33ca7403f1",
        "colab": {
          "base_uri": "https://localhost:8080/"
        }
      },
      "execution_count": null,
      "outputs": [
        {
          "output_type": "stream",
          "name": "stdout",
          "text": [
            "|t0| =  1\n",
            "uc0 =  1\n"
          ]
        }
      ]
    },
    {
      "cell_type": "code",
      "source": [
        "# Check that uc0 has size 1 and is orthogonal to prior ui's:\n",
        "print(\"Check:  The size of uc0 is \", n(uc0))\n",
        "#print(\"Check:  The inner product of u0 and ... is \", ip(uc0,uc0))"
      ],
      "metadata": {
        "id": "wSMMBxY9222T",
        "outputId": "3aed2477-a8ac-4b0c-aad5-2b454d0b32dd",
        "colab": {
          "base_uri": "https://localhost:8080/"
        }
      },
      "execution_count": null,
      "outputs": [
        {
          "output_type": "stream",
          "name": "stdout",
          "text": [
            "Check:  The size of uc0 is  1\n"
          ]
        }
      ]
    },
    {
      "cell_type": "markdown",
      "source": [
        "#### Process $c1 = cos(x)$ and do sanity checks."
      ],
      "metadata": {
        "id": "QTG09GL13UgV"
      }
    },
    {
      "cell_type": "code",
      "source": [
        "# Find the orthogonal part to the existing u_i's:\n",
        "tc1 = c1 - ip(c1, uc0)*uc0\n",
        "print(\"tc1 = \", tc1)"
      ],
      "metadata": {
        "id": "zQlcGPsfBIlW",
        "outputId": "f3881b6b-26b1-4287-e1ff-a77dd70c3abe",
        "colab": {
          "base_uri": "https://localhost:8080/"
        }
      },
      "execution_count": null,
      "outputs": [
        {
          "output_type": "stream",
          "name": "stdout",
          "text": [
            "tc1 =  cos(x)\n"
          ]
        }
      ]
    },
    {
      "cell_type": "code",
      "source": [
        "#Normalize\n",
        "print(\"|tc1| = \", n(tc1))\n",
        "uc1 = (1/n(tc1))*tc1\n",
        "print(\"uc1 = \", uc1)\n",
        "#print(\"uc1 = \", sym.simplify(uc1))"
      ],
      "metadata": {
        "id": "jWcoF8AjBQgB",
        "outputId": "f35ec47f-5108-4090-a5c6-3ca3f2a22999",
        "colab": {
          "base_uri": "https://localhost:8080/"
        }
      },
      "execution_count": null,
      "outputs": [
        {
          "output_type": "stream",
          "name": "stdout",
          "text": [
            "|tc1| =  sqrt(2)/2\n",
            "uc1 =  sqrt(2)*cos(x)\n"
          ]
        }
      ]
    },
    {
      "cell_type": "code",
      "source": [
        "# Sanity Check:  Check that uc1 has size 1 and is orthogonal to prior u's:\n",
        "print(\"Check:  The size of uc1 is: \", n(uc1))\n",
        "#print(\"Check:  The size of uc1 is: \", sym.simplify(n(uc1)))\n",
        "print(\"Check:  The inner product of uc1 and uc0 is: \", ip(uc1,uc0))"
      ],
      "metadata": {
        "id": "Vg2xK2szBv_n",
        "outputId": "02b605ec-864b-4f53-9422-0be4c0a870c8",
        "colab": {
          "base_uri": "https://localhost:8080/"
        }
      },
      "execution_count": null,
      "outputs": [
        {
          "output_type": "stream",
          "name": "stdout",
          "text": [
            "Check:  The size of uc1 is:  1\n",
            "Check:  The inner product of uc1 and uc0 is:  0\n"
          ]
        }
      ]
    },
    {
      "cell_type": "markdown",
      "source": [
        "#### Process $s1 = sin(x)$ and do sanity checks"
      ],
      "metadata": {
        "id": "5Ir3XlVH7kkp"
      }
    },
    {
      "cell_type": "code",
      "source": [
        "#  Now, do the same steps above for sin(1x):\n",
        "# Find the orthogonal part to the existing nice orthogonal basis:\n",
        "ts1 = s1 - ip(s1, uc0)*uc0 - ip(s1, uc1)*uc1\n",
        "print(\"ts1 = \", ts1)\n",
        "# Normalize:\n",
        "print(\"|ts1| = \", n(ts1))\n",
        "# Form the new orthogonal vector:\n",
        "us1 = (1/n(ts1))*ts1\n",
        "print(\"us1 = \", us1)"
      ],
      "metadata": {
        "id": "DIjr8F0o5mWB",
        "outputId": "53fac88b-a6d3-4c6a-ecfe-780001543404",
        "colab": {
          "base_uri": "https://localhost:8080/"
        }
      },
      "execution_count": null,
      "outputs": [
        {
          "output_type": "stream",
          "name": "stdout",
          "text": [
            "ts1 =  sin(x)\n",
            "|ts1| =  sqrt(2)/2\n",
            "us1 =  sqrt(2)*sin(x)\n"
          ]
        }
      ]
    },
    {
      "cell_type": "code",
      "source": [
        "# Sanity Check:  Check that us1 has size 1 and is orthogonal to prior u's:\n",
        "print(\"Check:  The size of us1 is: \", n(us1))\n",
        "print(\"Check:  The inner product of us1 and uc0 is: \", ip(us1,uc0))\n",
        "print(\"Check:  The inner product of us1 and uc1 is: \", ip(us1,uc1))"
      ],
      "metadata": {
        "id": "E4aerByv52Sp",
        "outputId": "18fb39e7-56fa-46a2-82a8-23381ffebd75",
        "colab": {
          "base_uri": "https://localhost:8080/"
        }
      },
      "execution_count": null,
      "outputs": [
        {
          "output_type": "stream",
          "name": "stdout",
          "text": [
            "Check:  The size of us1 is:  1\n",
            "Check:  The inner product of us1 and uc0 is:  0\n",
            "Check:  The inner product of us1 and uc1 is:  0\n"
          ]
        }
      ]
    },
    {
      "cell_type": "markdown",
      "source": [
        "#### Process $c2, s2, c3, s3, c4, $ and $s4$ in order to find $uc2, us2, uc3, us3, uc4, $ and $us4$:"
      ],
      "metadata": {
        "id": "2Cla_rLK7w1b"
      }
    },
    {
      "cell_type": "markdown",
      "source": [
        "#### Find uc_2, and do sanity checks"
      ],
      "metadata": {
        "id": "Xo-Y3Xk1BlGc"
      }
    },
    {
      "cell_type": "code",
      "source": [
        "# Find the orthogonal part to the existing u_i's:\n",
        "tc2 = c2 - ip(c2, uc0)*uc0 - ip(c2, uc1)*uc1 \n",
        "print(\"tc2 = \", tc2)"
      ],
      "metadata": {
        "id": "Tnhan1Af8zv-",
        "colab": {
          "base_uri": "https://localhost:8080/"
        },
        "outputId": "04f19e06-5e3b-489d-f923-39e05159e341"
      },
      "execution_count": null,
      "outputs": [
        {
          "output_type": "stream",
          "name": "stdout",
          "text": [
            "tc2 =  cos(2*x)\n"
          ]
        }
      ]
    },
    {
      "cell_type": "code",
      "source": [
        "#Normalize\n",
        "print(\"|tc2| = \", n(tc2))\n",
        "uc2 = (1/n(tc2))*tc2\n",
        "print(\"uc2 = \", uc2)\n",
        "#print(\"uc2 = \", sym.simplify(uc2))\n"
      ],
      "metadata": {
        "colab": {
          "base_uri": "https://localhost:8080/"
        },
        "id": "VDSRhNPxAOqJ",
        "outputId": "919eb8c4-82a2-4e3b-f6cf-84d1488038bb"
      },
      "execution_count": null,
      "outputs": [
        {
          "output_type": "stream",
          "name": "stdout",
          "text": [
            "|tc2| =  sqrt(2)/2\n",
            "uc2 =  sqrt(2)*cos(2*x)\n"
          ]
        }
      ]
    },
    {
      "cell_type": "code",
      "source": [
        "# Sanity Check:  Check that uc2 has size 1 and is orthogonal to prior u's:\n",
        "print(\"Check:  The size of uc2 is: \", n(uc2))\n",
        "#print(\"Check:  The size of uc2 is: \", sym.simplify(n(uc2)))\n",
        "print(\"Check:  The inner product of uc2 and uc1 is: \", ip(uc2,uc1))"
      ],
      "metadata": {
        "colab": {
          "base_uri": "https://localhost:8080/"
        },
        "id": "ynXXpIyfARvQ",
        "outputId": "82934aa5-ed1a-4b6f-f9f9-8d8e96e58a63"
      },
      "execution_count": null,
      "outputs": [
        {
          "output_type": "stream",
          "name": "stdout",
          "text": [
            "Check:  The size of uc2 is:  1\n",
            "Check:  The inner product of uc2 and uc1 is:  0\n"
          ]
        }
      ]
    },
    {
      "cell_type": "markdown",
      "source": [
        "#### Find us_2, and do sanity checks"
      ],
      "metadata": {
        "id": "dCj1G1RN8ba1"
      }
    },
    {
      "cell_type": "code",
      "source": [
        "#  Now, do the same steps above for sin(2x):\n",
        "# Find the orthogonal part to the existing nice orthogonal basis:\n",
        "ts2 = s2 - ip(s2, uc0)*uc0 - ip(s2, uc1)*uc1 - ip(s2, uc2)*uc2\n",
        "print(\"ts2 = \", ts2)\n",
        "# Normalize:\n",
        "print(\"|ts2| = \", n(ts2))\n",
        "# Form the new orthogonal vector:\n",
        "us2 = (1/n(ts2))*ts2\n",
        "print(\"us2 = \", us2)"
      ],
      "metadata": {
        "id": "BrH4VglM-Njk",
        "outputId": "b433eaee-5493-45d7-8dfd-b91288f54e06",
        "colab": {
          "base_uri": "https://localhost:8080/"
        }
      },
      "execution_count": null,
      "outputs": [
        {
          "output_type": "stream",
          "name": "stdout",
          "text": [
            "ts2 =  sin(2*x)\n",
            "|ts2| =  sqrt(2)/2\n",
            "us2 =  sqrt(2)*sin(2*x)\n"
          ]
        }
      ]
    },
    {
      "cell_type": "code",
      "source": [
        "# Sanity Check:  Check that us2 has size 1 and is orthogonal to prior u's:\n",
        "print(\"Check:  The size of us2 is: \", n(us2))\n",
        "print(\"Check:  The inner product of us2 and uc0 is: \", ip(us2,uc0))\n",
        "print(\"Check:  The inner product of us2 and uc1 is: \", ip(us2,uc1))\n",
        "print(\"Check:  The inner product of us2 and uc2 is: \", ip(us2, uc2))"
      ],
      "metadata": {
        "id": "Zf7ZPdh6-TBI",
        "outputId": "6eb6ba32-bfa9-456d-f04b-448287f1d008",
        "colab": {
          "base_uri": "https://localhost:8080/"
        }
      },
      "execution_count": null,
      "outputs": [
        {
          "output_type": "stream",
          "name": "stdout",
          "text": [
            "Check:  The size of us2 is:  1\n",
            "Check:  The inner product of us2 and uc0 is:  0\n",
            "Check:  The inner product of us2 and uc1 is:  0\n",
            "Check:  The inner product of us2 and uc2 is:  0\n"
          ]
        }
      ]
    },
    {
      "cell_type": "markdown",
      "source": [
        "#### FInd $uc_3$ and do sanity checks"
      ],
      "metadata": {
        "id": "NEYJf-Ba83aQ"
      }
    },
    {
      "cell_type": "code",
      "source": [
        "# Find the orthogonal part to the existing u_i's:\n",
        "tc3 = c3 - ip(c3, uc0)*uc0 - ip(c3, uc1)*uc1 - ip(c3, uc2)*uc2\n",
        "print(\"tc3 = \", tc3)"
      ],
      "metadata": {
        "id": "HcVQwObz862a",
        "outputId": "b17cd6de-1659-4af7-f0fc-7ce6ff5057ad",
        "colab": {
          "base_uri": "https://localhost:8080/"
        }
      },
      "execution_count": null,
      "outputs": [
        {
          "output_type": "stream",
          "name": "stdout",
          "text": [
            "tc3 =  cos(3*x)\n"
          ]
        }
      ]
    },
    {
      "cell_type": "code",
      "source": [
        "#Normalize\n",
        "print(\"|tc3| = \", n(tc3))\n",
        "uc3 = (1/n(tc3))*tc3\n",
        "print(\"uc3 = \", uc3)\n",
        "#print(\"uc3 = \", sym.simplify(uc3))"
      ],
      "metadata": {
        "id": "nERzvlW1--c3",
        "outputId": "aedfb246-6e0e-44fc-ae7f-00489e1093f0",
        "colab": {
          "base_uri": "https://localhost:8080/"
        }
      },
      "execution_count": null,
      "outputs": [
        {
          "output_type": "stream",
          "name": "stdout",
          "text": [
            "|tc3| =  sqrt(2)/2\n",
            "uc3 =  sqrt(2)*cos(3*x)\n"
          ]
        }
      ]
    },
    {
      "cell_type": "code",
      "source": [
        "# Sanity Check:  Check that uc3 has size 1 and is orthogonal to prior u's:\n",
        "print(\"Check:  The size of uc3 is: \", n(uc3))\n",
        "#print(\"Check:  The size of uc3 is: \", sym.simplify(n(uc3)))\n",
        "print(\"Check:  The inner product of uc3 and uc1 is: \", ip(uc3,uc1))\n",
        "print(\"Check:  The inner product of uc3 and uc2 is: \", ip(uc3, uc2))"
      ],
      "metadata": {
        "id": "PAWhdhay_C_9",
        "outputId": "0b914c36-8014-437a-c62d-010edc7c92a9",
        "colab": {
          "base_uri": "https://localhost:8080/"
        }
      },
      "execution_count": null,
      "outputs": [
        {
          "output_type": "stream",
          "name": "stdout",
          "text": [
            "Check:  The size of uc3 is:  1\n",
            "Check:  The inner product of uc3 and uc1 is:  0\n",
            "Check:  The inner product of uc3 and uc2 is:  1\n"
          ]
        }
      ]
    },
    {
      "cell_type": "markdown",
      "source": [
        "#### Find $us_3$ and do sanity checks"
      ],
      "metadata": {
        "id": "adxFe7nz88CK"
      }
    },
    {
      "cell_type": "code",
      "source": [
        "#  Now, do the same steps above for sin(3x):\n",
        "# Find the orthogonal part to the existing nice orthogonal basis:\n",
        "ts3 = s3 - ip(s3, uc0)*uc0 - ip(s3, uc1)*uc1 - ip(s3, uc2)*uc2 - ip(s3, uc3)*uc3\n",
        "print(\"ts3 = \", ts3)\n",
        "# Normalize:\n",
        "print(\"|ts3| = \", n(ts3))\n",
        "# Form the new orthogonal vector:\n",
        "us3 = (1/n(ts3))*ts3\n",
        "print(\"us3 = \", us3)"
      ],
      "metadata": {
        "id": "IajmnIQr9EoH",
        "outputId": "163dd5d5-ca88-45ed-e136-d4a052cd574f",
        "colab": {
          "base_uri": "https://localhost:8080/"
        }
      },
      "execution_count": null,
      "outputs": [
        {
          "output_type": "stream",
          "name": "stdout",
          "text": [
            "ts3 =  sin(3*x)\n",
            "|ts3| =  sqrt(2)/2\n",
            "us3 =  sqrt(2)*sin(3*x)\n"
          ]
        }
      ]
    },
    {
      "cell_type": "code",
      "source": [
        "# Sanity Check:  Check that us3 has size 1 and is orthogonal to prior u's:\n",
        "print(\"Check:  The size of us3 is: \", n(us3))\n",
        "print(\"Check:  The inner product of us3 and uc0 is: \", ip(us3,uc0))\n",
        "print(\"Check:  The inner product of us3 and uc1 is: \", ip(us3,uc1))\n",
        "print(\"Check:  The inner product of us3 and uc2 is: \", ip(us3, uc2))\n",
        "print(\"Check:  The inner product of us3 and uc3 is: \", ip(us3, uc3))"
      ],
      "metadata": {
        "id": "Oxbh8suY_3NK",
        "outputId": "3db38ed2-7217-4066-b3e2-7795785d920d",
        "colab": {
          "base_uri": "https://localhost:8080/"
        }
      },
      "execution_count": null,
      "outputs": [
        {
          "output_type": "stream",
          "name": "stdout",
          "text": [
            "Check:  The size of us3 is:  1\n",
            "Check:  The inner product of us3 and uc0 is:  0\n",
            "Check:  The inner product of us3 and uc1 is:  0\n",
            "Check:  The inner product of us3 and uc2 is:  0\n",
            "Check:  The inner product of us3 and uc3 is:  0\n"
          ]
        }
      ]
    },
    {
      "cell_type": "markdown",
      "source": [
        "#### Find $uc_4$ and do sanity checks"
      ],
      "metadata": {
        "id": "IyXe-4BN9FN1"
      }
    },
    {
      "cell_type": "code",
      "source": [
        "# Find the orthogonal part to the existing u_i's:\n",
        "tc4 = c4 - ip(c4, uc0)*uc0 - ip(c4, uc1)*uc1 - ip(c4, uc2)*uc2 - ip(c4, uc3)*uc3\n",
        "print(\"tc4 = \", tc4)"
      ],
      "metadata": {
        "id": "-K_2Mlyu9J3j",
        "outputId": "f31f2b44-35e2-4d3c-df7c-36e8ac1849d3",
        "colab": {
          "base_uri": "https://localhost:8080/"
        }
      },
      "execution_count": null,
      "outputs": [
        {
          "output_type": "stream",
          "name": "stdout",
          "text": [
            "tc4 =  cos(4*x)\n"
          ]
        }
      ]
    },
    {
      "cell_type": "code",
      "source": [
        "#Normalize\n",
        "print(\"|tc4| = \", n(tc4))\n",
        "uc4 = (1/n(tc4))*tc4\n",
        "print(\"uc4 = \", uc4)\n",
        "#print(\"uc4 = \", sym.simplify(uc4))"
      ],
      "metadata": {
        "id": "U74GWFkYAcT2",
        "outputId": "4fc7a0cc-f0c5-4278-f91a-ad371e83679e",
        "colab": {
          "base_uri": "https://localhost:8080/"
        }
      },
      "execution_count": null,
      "outputs": [
        {
          "output_type": "stream",
          "name": "stdout",
          "text": [
            "|tc4| =  sqrt(2)/2\n",
            "uc4 =  sqrt(2)*cos(4*x)\n"
          ]
        }
      ]
    },
    {
      "cell_type": "code",
      "source": [
        "# Sanity Check:  Check that uc4 has size 1 and is orthogonal to prior u's:\n",
        "print(\"Check:  The size of uc4 is: \", n(uc4))\n",
        "#print(\"Check:  The size of uc4 is: \", sym.simplify(n(uc4)))\n",
        "print(\"Check:  The inner product of uc4 and uc1 is: \", ip(uc4,uc1))\n",
        "print(\"Check:  The inner product of uc4 and uc2 is: \", ip(uc4, uc2))\n",
        "print(\"Check:  The inner product of uc4 and uc3 is:\", ip(uc4, uc3))"
      ],
      "metadata": {
        "id": "wX-SoitBAvOQ",
        "outputId": "c4497d1d-9dda-4e1b-ff4b-37573a0eee4d",
        "colab": {
          "base_uri": "https://localhost:8080/"
        }
      },
      "execution_count": null,
      "outputs": [
        {
          "output_type": "stream",
          "name": "stdout",
          "text": [
            "Check:  The size of uc4 is:  1\n",
            "Check:  The inner product of uc4 and uc1 is:  0\n",
            "Check:  The inner product of uc4 and uc2 is:  0\n",
            "Check:  The inner product of uc4 and uc3 is: 1\n"
          ]
        }
      ]
    },
    {
      "cell_type": "markdown",
      "source": [
        "#### FInd $us_4$ and do sanity checks"
      ],
      "metadata": {
        "id": "PTd4y8aG9KnN"
      }
    },
    {
      "cell_type": "code",
      "source": [
        "#  Now, do the same steps above for sin(4x):\n",
        "# Find the orthogonal part to the existing nice orthogonal basis:\n",
        "ts4 = s4 - ip(s4, uc0)*uc0 - ip(s4, uc1)*uc1 - ip(s4, uc2)*uc2 - ip(s4, uc3)*uc3 - ip(s4, uc4)*uc4\n",
        "print(\"ts4 = \", ts4)\n",
        "# Normalize:\n",
        "print(\"|ts4| = \", n(ts4))\n",
        "# Form the new orthogonal vector:\n",
        "us4 = (1/n(ts4))*ts4\n",
        "print(\"us4 = \", us4)"
      ],
      "metadata": {
        "id": "CVV8q8jl9N_u",
        "outputId": "ee394fa6-63b1-420d-8054-3e4272287b17",
        "colab": {
          "base_uri": "https://localhost:8080/"
        }
      },
      "execution_count": null,
      "outputs": [
        {
          "output_type": "stream",
          "name": "stdout",
          "text": [
            "ts4 =  sin(4*x)\n",
            "|ts4| =  sqrt(2)/2\n",
            "us4 =  sqrt(2)*sin(4*x)\n"
          ]
        }
      ]
    },
    {
      "cell_type": "code",
      "source": [
        "# Sanity Check:  Check that us4 has size 1 and is orthogonal to prior u's:\n",
        "print(\"Check:  The size of us4 is: \", n(us4))\n",
        "print(\"Check:  The inner product of us4 and uc0 is: \", ip(us4,uc0))\n",
        "print(\"Check:  The inner product of us4 and uc1 is: \", ip(us4,uc1))\n",
        "print(\"Check:  The inner product of us4 and uc2 is: \", ip(us4, uc2))\n",
        "print(\"Check:  The inner product of us4 and uc3 is: \", ip(us4, uc3))\n",
        "print(\"Check:  The inner product of us4 and uc4 is: \", ip(us4, uc4))"
      ],
      "metadata": {
        "id": "Sc_fIv-OBOrZ",
        "outputId": "f72b4e2b-0b4f-4c43-fda7-fe67d8085d71",
        "colab": {
          "base_uri": "https://localhost:8080/"
        }
      },
      "execution_count": null,
      "outputs": [
        {
          "output_type": "stream",
          "name": "stdout",
          "text": [
            "Check:  The size of us4 is:  1\n",
            "Check:  The inner product of us4 and uc0 is:  0\n",
            "Check:  The inner product of us4 and uc1 is:  0\n",
            "Check:  The inner product of us4 and uc2 is:  0\n",
            "Check:  The inner product of us4 and uc3 is:  0\n",
            "Check:  The inner product of us4 and uc4 is:  0\n"
          ]
        }
      ]
    },
    {
      "cell_type": "code",
      "source": [
        "#The new basis:\n",
        "print(\"The Orthonormal Basis: \")\n",
        "print(\"uc0 = \", uc0)\n",
        "print(\"uc1 = \", uc1)\n",
        "print(\"us1 = \", us1)\n",
        "print(\"uc2 = \", uc2)\n",
        "print(\"us1 = \", us2)\n",
        "print(\"uc3 = \", uc3)\n",
        "print(\"us1 = \", us3)\n",
        "print(\"uc4 = \", uc4)\n",
        "print(\"us1 = \", us4)\n"
      ],
      "metadata": {
        "id": "twiBrPQy3Pdr",
        "outputId": "001ae47b-5b4b-403c-a4af-550711881bb9",
        "colab": {
          "base_uri": "https://localhost:8080/"
        }
      },
      "execution_count": null,
      "outputs": [
        {
          "output_type": "stream",
          "name": "stdout",
          "text": [
            "The Orthonormal Basis: \n",
            "uc0 =  1\n",
            "uc1 =  sqrt(2)*cos(x)\n",
            "us1 =  sqrt(2)*sin(x)\n",
            "uc2 =  sqrt(2)*cos(3*x)\n",
            "us1 =  sqrt(2)*sin(2*x)\n",
            "uc3 =  sqrt(2)*cos(4*x)\n",
            "us1 =  sqrt(2)*sin(3*x)\n",
            "uc4 =  sqrt(2)*cos(4*x)\n",
            "us1 =  sqrt(2)*sin(4*x)\n"
          ]
        }
      ]
    },
    {
      "cell_type": "markdown",
      "source": [
        "### Express various functions in the orthonormal basis."
      ],
      "metadata": {
        "id": "MTB9HyFquhvg"
      }
    },
    {
      "cell_type": "code",
      "source": [
        "pp = x+2*sym.cos(x)\n",
        "plot_original = plot(pp, (x,-sym.pi,sym.pi), line_color='black', show=False)\n",
        "\n",
        "pp0 = ip(pp,uc0)*uc0 \n",
        "plot0 = plot(pp0, (x,-sym.pi,sym.pi), line_color='red', show=False)\n",
        "print(\"0th approximation to \", pp , \" is: \", pp0)\n",
        "plot0.extend(plot_original)\n",
        "plot0.show()\n",
        "\n",
        "pp1 = ip(pp,uc0)*uc0 + ip(pp,uc1)*uc1 + ip(pp,us1)*us1 \n",
        "plot1 = plot(pp1, (x,-sym.pi,sym.pi), line_color='orange', show=False)\n",
        "print(\"1st approximation to \", pp , \" is: \", pp1)\n",
        "plot1.extend(plot_original)\n",
        "plot1.show()\n",
        "\n",
        "pp2 = ip(pp,uc0)*uc0+ ip(pp,uc1)*uc1 + ip(pp,us1)*us1 + ip(pp,uc2)*uc2  + ip(pp,us2)*us2\n",
        "plot2 = plot(pp2, (x,-sym.pi,sym.pi), line_color='green', show=False)\n",
        "print(\"2nd approximation to \", pp , \" is: \", pp2)\n",
        "plot2.extend(plot_original)\n",
        "plot2.show()\n",
        "\n",
        "pp3 = ip(pp,uc0)*uc0+ ip(pp,uc1)*uc1 + ip(pp,us1)*us1 + ip(pp,uc2)*uc2  + ip(pp,us2)*us2 + ip(pp,uc3)*uc3  + ip(pp,us3)*us3\n",
        "plot3 = plot(pp3, (x,-sym.pi,sym.pi), line_color='blue', show=False)\n",
        "print(\"3rd approximation to \", pp , \" is: \", pp3)\n",
        "plot3.extend(plot_original)\n",
        "plot3.show()\n",
        "\n",
        "pp4 = ip(pp,uc0)*uc0+ ip(pp,uc1)*uc1 + ip(pp,us1)*us1 + ip(pp,uc2)*uc2  + ip(pp,us2)*us2 + ip(pp,uc3)*uc3  + ip(pp,us3)*us3 + ip(pp,uc4)*uc4 + ip(pp,us4)*us4\n",
        "plot4 = plot(pp4, (x,-sym.pi,sym.pi), line_color='purple', show=False)\n",
        "print(\"4th approximation to \", pp , \" is: \", pp4)\n",
        "plot4.extend(plot_original)\n",
        "plot4.show()\n",
        "\n",
        "\n",
        "# plot all of them:\n",
        "plot_original.extend(plot0)\n",
        "plot_original.extend(plot1)\n",
        "plot_original.extend(plot2)\n",
        "plot_original.extend(plot3)\n",
        "plot_original.extend(plot4)\n",
        "plot_original.show()"
      ],
      "metadata": {
        "id": "Wg4A71vr3gLk",
        "outputId": "6e6a7608-c47c-4663-bfe0-fdc767745ca8",
        "colab": {
          "base_uri": "https://localhost:8080/",
          "height": 1000
        }
      },
      "execution_count": null,
      "outputs": [
        {
          "output_type": "stream",
          "name": "stdout",
          "text": [
            "0th approximation to  x + 2*cos(x)  is:  0\n"
          ]
        },
        {
          "output_type": "display_data",
          "data": {
            "text/plain": [
              "<Figure size 432x288 with 1 Axes>"
            ],
            "image/png": "[encoded data removed]"
          },
          "metadata": {
            "needs_background": "light"
          }
        },
        {
          "output_type": "stream",
          "name": "stdout",
          "text": [
            "1st approximation to  x + 2*cos(x)  is:  sqrt(2)*(sqrt(2)*(-1 + pi) - sqrt(2)*(-pi - 1))*sin(x)/(2*pi) + sqrt(2)*(sqrt(2)*(-1 + pi) - sqrt(2)*(-pi - 1))*cos(x)/(2*pi)\n"
          ]
        },
        {
          "output_type": "display_data",
          "data": {
            "text/plain": [
              "<Figure size 432x288 with 1 Axes>"
            ],
            "image/png": "[encoded data removed]"
          },
          "metadata": {
            "needs_background": "light"
          }
        },
        {
          "output_type": "stream",
          "name": "stdout",
          "text": [
            "2nd approximation to  x + 2*cos(x)  is:  sqrt(2)*(sqrt(2)*(-1 + pi) - sqrt(2)*(-pi - 1))*sin(x)/(2*pi) + sqrt(2)*(-sqrt(2)*(4/3 + pi/2) + sqrt(2)*(4/3 - pi/2))*sin(2*x)/(2*pi) + sqrt(2)*(sqrt(2)*(-1 + pi) - sqrt(2)*(-pi - 1))*cos(x)/(2*pi)\n"
          ]
        },
        {
          "output_type": "display_data",
          "data": {
            "text/plain": [
              "<Figure size 432x288 with 1 Axes>"
            ],
            "image/png": "[encoded data removed]"
          },
          "metadata": {
            "needs_background": "light"
          }
        },
        {
          "output_type": "stream",
          "name": "stdout",
          "text": [
            "3rd approximation to  x + 2*cos(x)  is:  sqrt(2)*(sqrt(2)*(-1 + pi) - sqrt(2)*(-pi - 1))*sin(x)/(2*pi) + sqrt(2)*(-sqrt(2)*(4/3 + pi/2) + sqrt(2)*(4/3 - pi/2))*sin(2*x)/(2*pi) + sqrt(2)*(sqrt(2)*(-3/4 + pi/3) - sqrt(2)*(-pi/3 - 3/4))*sin(3*x)/(2*pi) + sqrt(2)*(sqrt(2)*(-1 + pi) - sqrt(2)*(-pi - 1))*cos(x)/(2*pi)\n"
          ]
        },
        {
          "output_type": "display_data",
          "data": {
            "text/plain": [
              "<Figure size 432x288 with 1 Axes>"
            ],
            "image/png": "[encoded data removed]"
          },
          "metadata": {
            "needs_background": "light"
          }
        },
        {
          "output_type": "stream",
          "name": "stdout",
          "text": [
            "4th approximation to  x + 2*cos(x)  is:  sqrt(2)*(sqrt(2)*(-1 + pi) - sqrt(2)*(-pi - 1))*sin(x)/(2*pi) + sqrt(2)*(-sqrt(2)*(4/3 + pi/2) + sqrt(2)*(4/3 - pi/2))*sin(2*x)/(2*pi) + sqrt(2)*(sqrt(2)*(-3/4 + pi/3) - sqrt(2)*(-pi/3 - 3/4))*sin(3*x)/(2*pi) + sqrt(2)*(-sqrt(2)*(8/15 + pi/4) + sqrt(2)*(8/15 - pi/4))*sin(4*x)/(2*pi) + sqrt(2)*(sqrt(2)*(-1 + pi) - sqrt(2)*(-pi - 1))*cos(x)/(2*pi)\n"
          ]
        },
        {
          "output_type": "display_data",
          "data": {
            "text/plain": [
              "<Figure size 432x288 with 1 Axes>"
            ],
            "image/png": "[encoded data removed]"
          },
          "metadata": {
            "needs_background": "light"
          }
        },
        {
          "output_type": "display_data",
          "data": {
            "text/plain": [
              "<Figure size 432x288 with 1 Axes>"
            ],
            "image/png": "[encoded data removed]"
          },
          "metadata": {
            "needs_background": "light"
          }
        }
      ]
    },
    {
      "cell_type": "code",
      "source": [
        "qq = sym.exp(x)\n",
        "plot_original = plot(qq, (x,-sym.pi,sym.pi), line_color='black', show=False)\n",
        "\n",
        "qq0 = ip(qq,uc0)*uc0 \n",
        "plot0 = plot(qq0, (x,-sym.pi,sym.pi), line_color='red', show=False)\n",
        "print(\"0th aqqroximation to \", qq , \" is: \", qq0)\n",
        "plot0.extend(plot_original)\n",
        "plot0.show()\n",
        "\n",
        "qq1 = ip(qq,uc0)*uc0 + ip(qq,uc1)*uc1 + ip(qq,us1)*us1 \n",
        "plot1 = plot(qq1, (x,-sym.pi,sym.pi), line_color='orange', show=False)\n",
        "print(\"1st aqqroximation to \", qq , \" is: \", qq1)\n",
        "plot1.extend(plot_original)\n",
        "plot1.show()\n",
        "\n",
        "qq2 = ip(qq,uc0)*uc0+ ip(qq,uc1)*uc1 + ip(qq,us1)*us1 + ip(qq,uc2)*uc2  + ip(qq,us2)*us2\n",
        "plot2 = plot(qq2, (x,-sym.pi,sym.pi), line_color='green', show=False)\n",
        "print(\"2nd aqqroximation to \", qq , \" is: \", qq2)\n",
        "plot2.extend(plot_original)\n",
        "plot2.show()\n",
        "\n",
        "qq3 = ip(qq,uc0)*uc0+ ip(qq,uc1)*uc1 + ip(qq,us1)*us1 + ip(qq,uc2)*uc2  + ip(qq,us2)*us2 + ip(qq,uc3)*uc3  + ip(qq,us3)*us3\n",
        "plot3 = plot(qq3, (x,-sym.pi,sym.pi), line_color='blue', show=False)\n",
        "print(\"3rd aqqroximation to \", qq , \" is: \", qq3)\n",
        "plot3.extend(plot_original)\n",
        "plot3.show()\n",
        "\n",
        "qq4 = ip(qq,uc0)*uc0+ ip(qq,uc1)*uc1 + ip(qq,us1)*us1 + ip(qq,uc2)*uc2  + ip(qq,us2)*us2 + ip(qq,uc3)*uc3  + ip(qq,us3)*us3 + ip(qq,uc4)*uc4 + ip(qq,us4)*us4\n",
        "plot4 = plot(qq4, (x,-sym.pi,sym.pi), line_color='purple', show=False)\n",
        "print(\"4th aqqroximation to \", qq , \" is: \", qq4)\n",
        "plot4.extend(plot_original)\n",
        "plot4.show()\n",
        "\n",
        "\n",
        "# plot all of them:\n",
        "plot_original.extend(plot0)\n",
        "plot_original.extend(plot1)\n",
        "plot_original.extend(plot2)\n",
        "plot_original.extend(plot3)\n",
        "plot_original.extend(plot4)\n",
        "plot_original.show()"
      ],
      "metadata": {
        "id": "B6E-9cvCEuNj",
        "outputId": "3632f5e5-737e-4565-e008-1cfd9fb83f19",
        "colab": {
          "base_uri": "https://localhost:8080/",
          "height": 628
        }
      },
      "execution_count": null,
      "outputs": [
        {
          "output_type": "stream",
          "name": "stdout",
          "text": [
            "0th aqqroximation to  exp(x)  is:  (-exp(-pi) + exp(pi))/(2*pi)\n"
          ]
        },
        {
          "output_type": "display_data",
          "data": {
            "text/plain": [
              "<Figure size 432x288 with 1 Axes>"
            ],
            "image/png": "[encoded data removed]"
          },
          "metadata": {
            "needs_background": "light"
          }
        },
        {
          "output_type": "stream",
          "name": "stdout",
          "text": [
            "1st aqqroximation to  exp(x)  is:  sqrt(2)*(-sqrt(2)*exp(-pi)/2 + sqrt(2)*exp(pi)/2)*sin(x)/(2*pi) + sqrt(2)*(-sqrt(2)*exp(pi)/2 + sqrt(2)*exp(-pi)/2)*cos(x)/(2*pi) + (-exp(-pi) + exp(pi))/(2*pi)\n"
          ]
        },
        {
          "output_type": "display_data",
          "data": {
            "text/plain": [
              "<Figure size 432x288 with 1 Axes>"
            ],
            "image/png": "[encoded data removed]"
          },
          "metadata": {
            "needs_background": "light"
          }
        }
      ]
    },
    {
      "cell_type": "code",
      "source": [
        "ss = 1-x+x**2-x**3+x**4\n",
        "\n",
        "plot_original = plot(ss, (x,-sym.pi,sym.pi), line_color='black', show=False)\n",
        "ss0 = ip(ss,uc0)*uc0 \n",
        "plot0 = plot(ss0, (x,-sym.pi,sym.pi), line_color='red', show=False)\n",
        "print(\"0th assroximation to \", ss , \" is: \", ss0)\n",
        "plot0.extend(plot_original)\n",
        "plot0.show()\n",
        "\n",
        "ss1 = ip(ss,uc0)*uc0 + ip(ss,uc1)*uc1 + ip(ss,us1)*us1 \n",
        "plot1 = plot(ss1, (x,-sym.pi,sym.pi), line_color='orange', show=False)\n",
        "print(\"1st assroximation to \", ss , \" is: \", ss1)\n",
        "plot1.extend(plot_original)\n",
        "plot1.show()\n",
        "\n",
        "ss2 = ip(ss,uc0)*uc0+ ip(ss,uc1)*uc1 + ip(ss,us1)*us1 + ip(ss,uc2)*uc2  + ip(ss,us2)*us2\n",
        "plot2 = plot(ss2, (x,-sym.pi,sym.pi), line_color='green', show=False)\n",
        "print(\"2nd assroximation to \", ss , \" is: \", ss2)\n",
        "plot2.extend(plot_original)\n",
        "plot2.show()\n",
        "\n",
        "ss3 = ip(ss,uc0)*uc0+ ip(ss,uc1)*uc1 + ip(ss,us1)*us1 + ip(ss,uc2)*uc2  + ip(ss,us2)*us2 + ip(ss,uc3)*uc3  + ip(ss,us3)*us3\n",
        "plot3 = plot(ss3, (x,-sym.pi,sym.pi), line_color='blue', show=False)\n",
        "print(\"3rd assroximation to \", ss , \" is: \", ss3)\n",
        "plot3.extend(plot_original)\n",
        "plot3.show()\n",
        "\n",
        "ss4 = ip(ss,uc0)*uc0+ ip(ss,uc1)*uc1 + ip(ss,us1)*us1 + ip(ss,uc2)*uc2  + ip(ss,us2)*us2 + ip(ss,uc3)*uc3  + ip(ss,us3)*us3 + ip(ss,uc4)*uc4 + ip(ss,us4)*us4\n",
        "plot4 = plot(ss4, (x,-sym.pi,sym.pi), line_color='purple', show=False)\n",
        "print(\"4th assroximation to \", ss , \" is: \", ss4)\n",
        "plot4.extend(plot_original)\n",
        "plot4.show()\n",
        "\n",
        "\n",
        "# plot all of them:\n",
        "plot_original.extend(plot0)\n",
        "plot_original.extend(plot1)\n",
        "plot_original.extend(plot2)\n",
        "plot_original.extend(plot3)\n",
        "plot_original.extend(plot4)\n",
        "plot_original.show()"
      ],
      "metadata": {
        "id": "V3wQgN35AkwE"
      },
      "execution_count": null,
      "outputs": []
    }
  ]
}